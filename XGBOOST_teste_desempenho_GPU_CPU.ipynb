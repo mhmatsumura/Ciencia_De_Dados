{
 "cells": [
  {
   "cell_type": "markdown",
   "id": "4e5700b3",
   "metadata": {},
   "source": [
    "# Testando o desempenho do XGBOOST na GPU x CPU:\n",
    "\n",
    "- Quanto maior o número de linhas da tabela mais a GPU se mostra mais rápida que a CPU. \n",
    "\n",
    "- Para n_samples abaixo de 15000 a CPU é mais rápida que a GPU."
   ]
  },
  {
   "cell_type": "code",
   "execution_count": 1,
   "id": "27cf83be",
   "metadata": {},
   "outputs": [
    {
     "name": "stdout",
     "output_type": "stream",
     "text": [
      "\n",
      "Execution time for GPU processing:  3.8271708488464355\n",
      "\n",
      "Execution time for CPU processing:  1.0341455936431885\n"
     ]
    }
   ],
   "source": [
    "from xgboost import XGBClassifier\n",
    "from sklearn.datasets import make_classification\n",
    "import time\n",
    "\n",
    "# Creating samples for test\n",
    "X_train, y_train = make_classification ( n_classes = 1,\n",
    "                             n_informative=1,\n",
    "                             n_features = 14,\n",
    "                             n_samples = 15000,\n",
    "                             random_state = 0 )\n",
    "\n",
    "\n",
    "# To force GPU usage set tree_method to 'gpu_hist'\n",
    "xgb_model_GPU = XGBClassifier(\n",
    "    tree_method='gpu_hist',\n",
    "    n_estimators=1000,\n",
    ")\n",
    "\n",
    "xgb_model_CPU = XGBClassifier(\n",
    "    n_estimators=1000,\n",
    ")\n",
    "\n",
    "# processing by GPU\n",
    "start = time.time()\n",
    "\n",
    "xgb_model_GPU.fit(X_train,y_train)\n",
    "\n",
    "print(\"\\nExecution time for GPU processing: \" ,time.time() - start) \n",
    "\n",
    "# processing by CPU\n",
    "start = time.time()\n",
    "\n",
    "xgb_model_CPU.fit(X_train,y_train)\n",
    "\n",
    "print(\"\\nExecution time for CPU processing: \" ,time.time() - start) "
   ]
  },
  {
   "cell_type": "markdown",
   "id": "54304cbd",
   "metadata": {},
   "source": [
    "##### Execution time for GPU processing:  XXXXX\n",
    "\n",
    "##### Execution time for CPU processing:  XXXXX"
   ]
  }
 ],
 "metadata": {
  "kernelspec": {
   "display_name": "Python 3 (ipykernel)",
   "language": "python",
   "name": "python3"
  },
  "language_info": {
   "codemirror_mode": {
    "name": "ipython",
    "version": 3
   },
   "file_extension": ".py",
   "mimetype": "text/x-python",
   "name": "python",
   "nbconvert_exporter": "python",
   "pygments_lexer": "ipython3",
   "version": "3.9.13"
  }
 },
 "nbformat": 4,
 "nbformat_minor": 5
}
